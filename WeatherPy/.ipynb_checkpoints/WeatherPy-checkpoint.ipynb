{
 "cells": [
  {
   "cell_type": "code",
   "execution_count": 33,
   "metadata": {},
   "outputs": [],
   "source": [
    "# Dependencies\n",
    "import matplotlib.pyplot as plt\n",
    "import requests\n",
    "from scipy import stats\n",
    "import pandas as pd\n",
    "from config import api_key\n",
    "import json\n",
    "from scipy.stats import linregress"
   ]
  },
  {
   "cell_type": "code",
   "execution_count": 6,
   "metadata": {},
   "outputs": [],
   "source": [
    "# Save config information.\n",
    "url = \"http://api.openweathermap.org/data/2.5/weather?\"\n",
    "units = \"imperial\"\n",
    "\n",
    "# Build partial query URL\n",
    "query_url = f\"{url}appid={api_key}&units={units}&q=\"\n",
    "\n",
    "\n",
    "response = requests.get(query_url+\"London\").json()"
   ]
  },
  {
   "cell_type": "code",
   "execution_count": 9,
   "metadata": {},
   "outputs": [
    {
     "name": "stdout",
     "output_type": "stream",
     "text": [
      "{\n",
      "    \"base\": \"stations\",\n",
      "    \"clouds\": {\n",
      "        \"all\": 69\n",
      "    },\n",
      "    \"cod\": 200,\n",
      "    \"coord\": {\n",
      "        \"lat\": 51.5085,\n",
      "        \"lon\": -0.1257\n",
      "    },\n",
      "    \"dt\": 1619448242,\n",
      "    \"id\": 2643743,\n",
      "    \"main\": {\n",
      "        \"feels_like\": 51.78,\n",
      "        \"humidity\": 47,\n",
      "        \"pressure\": 1020,\n",
      "        \"temp\": 54.43,\n",
      "        \"temp_max\": 55.99,\n",
      "        \"temp_min\": 53.01\n",
      "    },\n",
      "    \"name\": \"London\",\n",
      "    \"sys\": {\n",
      "        \"country\": \"GB\",\n",
      "        \"id\": 1414,\n",
      "        \"sunrise\": 1619412096,\n",
      "        \"sunset\": 1619464480,\n",
      "        \"type\": 1\n",
      "    },\n",
      "    \"timezone\": 3600,\n",
      "    \"visibility\": 10000,\n",
      "    \"weather\": [\n",
      "        {\n",
      "            \"description\": \"broken clouds\",\n",
      "            \"icon\": \"04d\",\n",
      "            \"id\": 803,\n",
      "            \"main\": \"Clouds\"\n",
      "        }\n",
      "    ],\n",
      "    \"wind\": {\n",
      "        \"deg\": 90,\n",
      "        \"speed\": 13.8\n",
      "    }\n",
      "}\n"
     ]
    }
   ],
   "source": [
    "print(json.dumps(response, indent=4, sort_keys=True))"
   ]
  },
  {
   "cell_type": "markdown",
   "metadata": {},
   "source": [
    "# Latitude vs Humidity, Cloudiness, & Wind Speed"
   ]
  },
  {
   "cell_type": "code",
   "execution_count": 25,
   "metadata": {},
   "outputs": [],
   "source": [
    "#Determine cities\n",
    "cities = [\"Paris\", \"Sydney\",\"London\",\"Sao Paulo\"]\n",
    "\n",
    "#Create empty lists to index to\n",
    "temp = []\n",
    "humidity = []\n",
    "cloudiness = []\n",
    "wind_spd = []\n",
    "lat = []\n",
    "\n",
    "#iterate through desired cities and pull temperature, humidity, cloudiness, wind speed, and latitude coordinate\n",
    "for city in cities:\n",
    "    response = requests.get(query_url + city).json()\n",
    "    temp.append(response['main']['temp'])\n",
    "    humidity.append(response['main']['humidity'])\n",
    "    cloudiness.append(response['clouds']['all'])\n",
    "    wind_spd.append(response['wind']['speed'])\n",
    "    lat.append(response['coord']['lat'])\n"
   ]
  },
  {
   "cell_type": "code",
   "execution_count": 26,
   "metadata": {},
   "outputs": [
    {
     "name": "stdout",
     "output_type": "stream",
     "text": [
      "hello\n"
     ]
    },
    {
     "data": {
      "text/plain": [
       "<Figure size 1440x1440 with 0 Axes>"
      ]
     },
     "execution_count": 26,
     "metadata": {},
     "output_type": "execute_result"
    },
    {
     "data": {
      "image/png": "[encoded data removed]",
      "text/plain": [
       "<Figure size 432x288 with 4 Axes>"
      ]
     },
     "metadata": {
      "needs_background": "light"
     },
     "output_type": "display_data"
    },
    {
     "data": {
      "text/plain": [
       "<Figure size 1440x1440 with 0 Axes>"
      ]
     },
     "metadata": {},
     "output_type": "display_data"
    }
   ],
   "source": [
    "#Plot scatter plots\n",
    "fig, axs = plt.subplots(2,2)\n",
    "axs[0,0].scatter(lat,temp)\n",
    "axs[0,0].title.set_text('Temperature')\n",
    "axs[0,0].set_ylabel(\"Temperature (F)\")\n",
    "plt.show\n",
    "print('hello')\n",
    "\n",
    "axs[0,1].scatter(lat,humidity)\n",
    "axs[0,1].title.set_text('Humidity')\n",
    "axs[0,1].set_ylabel(\"Humidity (%)\")\n",
    "\n",
    "axs[1,0].scatter(lat,cloudiness)\n",
    "axs[1,0].title.set_text('Cloudiness')\n",
    "axs[1,0].set_ylabel(\"Cloudiness (%)\")\n",
    "\n",
    "axs[1,1].scatter(lat,wind_spd)\n",
    "axs[1,1].title.set_text('Wind Speed')\n",
    "axs[1,1].set_ylabel(\"Wind Speed (mph)\")\n",
    "\n",
    "plt.tight_layout()\n",
    "plt.figure(figsize = (20,20))\n",
    "\n",
    "\n",
    "#Need help with the following:\n",
    "    #How do I make the graphs look 'nice'\n",
    "    #How do I place text after each plot instead of before \n",
    "    #How do I randomly select at least 500 unique (non-repeat) cities based on latitude and longitude"
   ]
  },
  {
   "cell_type": "markdown",
   "metadata": {},
   "source": [
    "# North vs South Latitude "
   ]
  },
  {
   "cell_type": "code",
   "execution_count": 30,
   "metadata": {},
   "outputs": [],
   "source": [
    "#Create empty lists to index to; split between North and South \n",
    "n_temp = []\n",
    "n_humidity = []\n",
    "n_cloudiness = []\n",
    "n_wind_spd = []\n",
    "n_lat = []\n",
    "s_temp = []\n",
    "s_humidity = []\n",
    "s_cloudiness = []\n",
    "s_wind_spd = []\n",
    "s_lat = []\n",
    "\n",
    "#iterate through desired cities and pull temperature, humidity, cloudiness, wind speed, and latitude coordinate\n",
    "for city in cities:\n",
    "    response = requests.get(query_url + city).json()\n",
    "    if response['coord']['lat'] > 0:\n",
    "        n_temp.append(response['main']['temp'])\n",
    "        n_humidity.append(response['main']['humidity'])\n",
    "        n_cloudiness.append(response['clouds']['all'])\n",
    "        n_wind_spd.append(response['wind']['speed'])\n",
    "        n_lat.append(response['coord']['lat'])\n",
    "    else:\n",
    "        s_temp.append(response['main']['temp'])\n",
    "        s_humidity.append(response['main']['humidity'])\n",
    "        s_cloudiness.append(response['clouds']['all'])\n",
    "        s_wind_spd.append(response['wind']['speed'])\n",
    "        s_lat.append(response['coord']['lat'])\n"
   ]
  },
  {
   "cell_type": "code",
   "execution_count": 57,
   "metadata": {},
   "outputs": [
    {
     "data": {
      "image/png": "[encoded data removed]",
      "text/plain": [
       "<Figure size 432x288 with 1 Axes>"
      ]
     },
     "metadata": {
      "needs_background": "light"
     },
     "output_type": "display_data"
    }
   ],
   "source": [
    "#Plot North city plots\n",
    "ax1 = plt.scatter(n_lat,n_humidity)\n",
    "plt.title('Temperature')\n",
    "plt.ylabel('Temperature (F)')\n",
    "(slope, intercept, rvalue, pvalue, stderr) = linregress(n_lat, n_temp)\n",
    "regress_values = n_lat[0] * slope + intercept\n",
    "line_eq = \"y = \" + str(round(slope,2)) + \"x + \" + str(round(intercept,2))\n",
    "plt.annotate(line_eq,(49,30),fontsize=15,color=\"red\")\n",
    "plt.show()\n",
    "\n",
    "ax2 = plt.scatter(n_lat,n_humidity)\n",
    "plt.title('Temperature')\n",
    "plt.ylabel('Temperature (F)')\n",
    "(slope, intercept, rvalue, pvalue, stderr) = linregress(n_lat, n_temp)\n",
    "regress_values = n_lat[0] * slope + intercept\n",
    "line_eq = \"y = \" + str(round(slope,2)) + \"x + \" + str(round(intercept,2))\n",
    "plt.annotate(line_eq,(49,30),fontsize=15,color=\"red\")\n"
   ]
  },
  {
   "cell_type": "code",
   "execution_count": 50,
   "metadata": {
    "scrolled": true
   },
   "outputs": [
    {
     "data": {
      "text/plain": [
       "Text(0.2, 0, 'y = -4.03x + 261.52')"
      ]
     },
     "execution_count": 50,
     "metadata": {},
     "output_type": "execute_result"
    },
    {
     "data": {
      "image/png": "[encoded data removed]",
      "text/plain": [
       "<Figure size 432x288 with 4 Axes>"
      ]
     },
     "metadata": {
      "needs_background": "light"
     },
     "output_type": "display_data"
    }
   ],
   "source": [
    "#Plot North city plots\n",
    "fig, axs = plt.subplots(2,2)\n",
    "axs[0,0].scatter(n_lat,n_temp)\n",
    "axs[0,0].title.set_text('Temperature')\n",
    "axs[0,0].set_ylabel(\"Temperature (F)\")\n",
    "\n",
    "(slope, intercept, rvalue, pvalue, stderr) = linregress(n_lat, n_temp)\n",
    "regress_values = n_lat[0] * slope + intercept\n",
    "line_eq = \"y = \" + str(round(slope,2)) + \"x + \" + str(round(intercept,2))\n",
    "plt.annotate(line_eq,(0.2,0),fontsize=15,color=\"red\")"
   ]
  },
  {
   "cell_type": "code",
   "execution_count": 86,
   "metadata": {},
   "outputs": [
    {
     "name": "stdout",
     "output_type": "stream",
     "text": [
      "0    29.0\n",
      "1    47.0\n",
      "dtype: float64\n"
     ]
    },
    {
     "data": {
      "text/plain": [
       "<Figure size 1440x1440 with 0 Axes>"
      ]
     },
     "execution_count": 86,
     "metadata": {},
     "output_type": "execute_result"
    },
    {
     "data": {
      "image/png": "[encoded data removed]",
      "text/plain": [
       "<Figure size 432x288 with 4 Axes>"
      ]
     },
     "metadata": {
      "needs_background": "light"
     },
     "output_type": "display_data"
    },
    {
     "data": {
      "text/plain": [
       "<Figure size 1440x1440 with 0 Axes>"
      ]
     },
     "metadata": {},
     "output_type": "display_data"
    },
    {
     "data": {
      "image/png": "[encoded data removed]",
      "text/plain": [
       "<Figure size 432x288 with 4 Axes>"
      ]
     },
     "metadata": {
      "needs_background": "light"
     },
     "output_type": "display_data"
    },
    {
     "data": {
      "text/plain": [
       "<Figure size 1440x1440 with 0 Axes>"
      ]
     },
     "metadata": {},
     "output_type": "display_data"
    }
   ],
   "source": [
    "fig, axs = plt.subplots(2,2)\n",
    "axs[0,1].scatter(n_lat,n_humidity)\n",
    "axs[0,1].title.set_text('Humidity')\n",
    "axs[0,1].set_ylabel(\"Humidity (%)\")\n",
    "\n",
    "(slope, intercept, rvalue, pvalue, stderr) = linregress(n_lat, n_humidity)\n",
    "n_lat_series = pd.Series(n_lat)\n",
    "regress_values = n_lat_series* slope + intercept\n",
    "print(regress_values)\n",
    "line_eq = \"y = \" + str(round(slope,2)) + \"x + \" + str(round(intercept,2))\n",
    "axs[0,1].text(49, 30, line_eq, size=10,color='red')\n",
    "axs[0,1].plot(n_lat_series,regress_values,\"r-\")\n",
    "\n",
    "axs[1,0].scatter(n_lat,n_cloudiness)\n",
    "axs[1,0].title.set_text('Cloudiness')\n",
    "axs[1,0].set_ylabel(\"Cloudiness (%)\")\n",
    "\n",
    "axs[1,1].scatter(n_lat,n_wind_spd)\n",
    "axs[1,1].title.set_text('Wind Speed')\n",
    "axs[1,1].set_ylabel(\"Wind Speed (mph)\")\n",
    "\n",
    "plt.tight_layout()\n",
    "plt.figure(figsize = (20,20))\n",
    "\n",
    "#Plot South city plots\n",
    "fig1, ax1 = plt.subplots(2,2)\n",
    "ax1[0,0].scatter(s_lat,s_temp)\n",
    "ax1[0,0].title.set_text('Temperature')\n",
    "ax1[0,0].set_ylabel(\"Temperature (F)\")\n",
    "\n",
    "ax1[0,1].scatter(s_lat,s_humidity)\n",
    "ax1[0,1].title.set_text('Humidity')\n",
    "ax1[0,1].set_ylabel(\"Humidity (%)\")\n",
    "\n",
    "ax1[1,0].scatter(s_lat,s_cloudiness)\n",
    "ax1[1,0].title.set_text('Cloudiness')\n",
    "ax1[1,0].set_ylabel(\"Cloudiness (%)\")\n",
    "\n",
    "ax1[1,1].scatter(s_lat,s_wind_spd)\n",
    "ax1[1,1].title.set_text('Wind Speed')\n",
    "ax1[1,1].set_ylabel(\"Wind Speed (mph)\")\n",
    "\n",
    "plt.tight_layout()\n",
    "plt.figure(figsize = (20,20))"
   ]
  },
  {
   "cell_type": "code",
   "execution_count": null,
   "metadata": {},
   "outputs": [],
   "source": []
  },
  {
   "cell_type": "code",
   "execution_count": null,
   "metadata": {},
   "outputs": [],
   "source": []
  },
  {
   "cell_type": "code",
   "execution_count": null,
   "metadata": {},
   "outputs": [],
   "source": []
  },
  {
   "cell_type": "code",
   "execution_count": null,
   "metadata": {},
   "outputs": [],
   "source": []
  }
 ],
 "metadata": {
  "kernelspec": {
   "display_name": "Python [conda env:PythonData] *",
   "language": "python",
   "name": "conda-env-PythonData-py"
  },
  "language_info": {
   "codemirror_mode": {
    "name": "ipython",
    "version": 3
   },
   "file_extension": ".py",
   "mimetype": "text/x-python",
   "name": "python",
   "nbconvert_exporter": "python",
   "pygments_lexer": "ipython3",
   "version": "3.6.10"
  }
 },
 "nbformat": 4,
 "nbformat_minor": 4
}
