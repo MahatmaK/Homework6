{
 "cells": [
  {
   "cell_type": "markdown",
   "metadata": {},
   "source": [
    "# Part 1 : WeatherPy\n",
    "\n",
    "Your final notebook must:\n",
    "\n",
    "1. Randomly select at least 500 unique (non-repeat) cities based on latitude and longitude.\n",
    "2. Perform a weather check on each of the cities using a series of successive API calls.\n",
    "3. Include a print log of each city as it's being processed with the city number and city name.\n",
    "4. ~~Save a CSV of all retrieved data and a PNG image for each scatter plot.~~"
   ]
  },
  {
   "cell_type": "code",
   "execution_count": 44,
   "metadata": {},
   "outputs": [],
   "source": [
    "# Dependencies\n",
    "import matplotlib.pyplot as plt\n",
    "import requests\n",
    "from scipy import stats\n",
    "import pandas as pd\n",
    "from config import api_key\n",
    "import json\n",
    "from scipy.stats import linregress\n",
    "from config import gkey"
   ]
  },
  {
   "cell_type": "code",
   "execution_count": 45,
   "metadata": {},
   "outputs": [],
   "source": [
    "# Save config information.\n",
    "url = \"http://api.openweathermap.org/data/2.5/weather?\"\n",
    "units = \"imperial\"\n",
    "\n",
    "# Build partial query URL\n",
    "query_url = f\"{url}appid={api_key}&units={units}&q=\"\n",
    "\n",
    "\n",
    "response = requests.get(query_url+\"London\").json()"
   ]
  },
  {
   "cell_type": "markdown",
   "metadata": {},
   "source": [
    "# Latitude vs Humidity, Cloudiness, & Wind Speed"
   ]
  },
  {
   "cell_type": "code",
   "execution_count": 46,
   "metadata": {},
   "outputs": [],
   "source": [
    "#Determine cities\n",
    "cities = [\"Paris\", \"Sydney\",\"London\",\"Sao Paulo\"]\n",
    "\n",
    "#Create empty lists to index to\n",
    "temp = []\n",
    "humidity = []\n",
    "cloudiness = []\n",
    "wind_spd = []\n",
    "lat = []\n",
    "long = []\n",
    "\n",
    "#iterate through desired cities and pull temperature, humidity, cloudiness, wind speed, and latitude coordinate\n",
    "for city in cities:\n",
    "    response = requests.get(query_url + city).json()\n",
    "    temp.append(response['main']['temp'])\n",
    "    humidity.append(response['main']['humidity'])\n",
    "    cloudiness.append(response['clouds']['all'])\n",
    "    wind_spd.append(response['wind']['speed'])\n",
    "    lat.append(response['coord']['lat'])\n",
    "    long.append(response['coord']['lon'])"
   ]
  },
  {
   "cell_type": "code",
   "execution_count": 47,
   "metadata": {},
   "outputs": [
    {
     "data": {
      "image/png": "[encoded data removed]",
      "text/plain": [
       "<Figure size 432x288 with 4 Axes>"
      ]
     },
     "metadata": {
      "needs_background": "light"
     },
     "output_type": "display_data"
    },
    {
     "data": {
      "text/plain": [
       "<Figure size 1440x1440 with 0 Axes>"
      ]
     },
     "metadata": {},
     "output_type": "display_data"
    }
   ],
   "source": [
    "#Plot scatter plots\n",
    "fig, axs = plt.subplots(2,2)\n",
    "axs[0,0].scatter(lat,temp)\n",
    "axs[0,0].title.set_text('Temperature')\n",
    "axs[0,0].set_ylabel(\"Temperature (F)\")\n",
    "plt.show\n",
    "\n",
    "axs[0,1].scatter(lat,humidity)\n",
    "axs[0,1].title.set_text('Humidity')\n",
    "axs[0,1].set_ylabel(\"Humidity (%)\")\n",
    "\n",
    "axs[1,0].scatter(lat,cloudiness)\n",
    "axs[1,0].title.set_text('Cloudiness')\n",
    "axs[1,0].set_ylabel(\"Cloudiness (%)\")\n",
    "\n",
    "axs[1,1].scatter(lat,wind_spd)\n",
    "axs[1,1].title.set_text('Wind Speed')\n",
    "axs[1,1].set_ylabel(\"Wind Speed (mph)\")\n",
    "\n",
    "plt.tight_layout()\n",
    "plt.figure(figsize = (20,20))\n",
    "\n",
    "\n",
    "#Save figure to PNG file\n",
    "fig.savefig(\"PNG_Files/Weather.png\")\n",
    "\n",
    "#Need help with the following:\n",
    "    #How do I make the graphs look 'nice'\n",
    "    #How do I place text after each plot instead of before \n",
    "    #How do I randomly select at least 500 unique (non-repeat) cities based on latitude and longitude"
   ]
  },
  {
   "cell_type": "code",
   "execution_count": 48,
   "metadata": {},
   "outputs": [],
   "source": [
    "#Create dataframe of cities and export to csv\n",
    "\n",
    "#Create structure of df\n",
    "cities_df = pd.DataFrame({'City':cities,\n",
    "                          'Temperature':temp, \n",
    "                          'Humidity':humidity,\n",
    "                          'Cloudiness':cloudiness, \n",
    "                          'Wind_Speed':wind_spd,\n",
    "                          'Latitude':lat,\n",
    "                          'Longitude':long})\n",
    "\n",
    "#Write to CSV file. Exclude indexes but include headers\n",
    "cities_df.to_csv(\"CSV_Outputs/WeatherTable.csv\", index = False, header = True)\n",
    "\n"
   ]
  },
  {
   "cell_type": "markdown",
   "metadata": {},
   "source": [
    "# North vs South Latitude "
   ]
  },
  {
   "cell_type": "code",
   "execution_count": 49,
   "metadata": {},
   "outputs": [],
   "source": [
    "#Create empty lists to index to; split between North and South \n",
    "\n",
    "#North Latitude Variables\n",
    "n_cities = []\n",
    "n_temp = []\n",
    "n_humidity = []\n",
    "n_cloudiness = []\n",
    "n_wind_spd = []\n",
    "n_lat = []\n",
    "\n",
    "#South Latitude Variables\n",
    "s_cities = []\n",
    "s_temp = []\n",
    "s_humidity = []\n",
    "s_cloudiness = []\n",
    "s_wind_spd = []\n",
    "s_lat = []\n",
    "\n",
    "#iterate through desired cities and pull temperature, humidity, cloudiness, wind speed, and latitude coordinate\n",
    "for city in cities:\n",
    "    response = requests.get(query_url + city).json()\n",
    "    if response['coord']['lat'] > 0:\n",
    "        n_cities.append(city)\n",
    "        n_temp.append(response['main']['temp'])\n",
    "        n_humidity.append(response['main']['humidity'])\n",
    "        n_cloudiness.append(response['clouds']['all'])\n",
    "        n_wind_spd.append(response['wind']['speed'])\n",
    "        n_lat.append(response['coord']['lat'])\n",
    "    else:\n",
    "        s_cities.append(city)\n",
    "        s_temp.append(response['main']['temp'])\n",
    "        s_humidity.append(response['main']['humidity'])\n",
    "        s_cloudiness.append(response['clouds']['all'])\n",
    "        s_wind_spd.append(response['wind']['speed'])\n",
    "        s_lat.append(response['coord']['lat'])\n"
   ]
  },
  {
   "cell_type": "markdown",
   "metadata": {},
   "source": [
    "#Plot North city plots\n",
    "ax1 = plt.scatter(n_lat,n_humidity)\n",
    "plt.title('Temperature')\n",
    "plt.ylabel('Temperature (F)')\n",
    "(slope, intercept, rvalue, pvalue, stderr) = linregress(n_lat, n_temp)\n",
    "regress_values = n_lat[0] * slope + intercept\n",
    "line_eq = \"y = \" + str(round(slope,2)) + \"x + \" + str(round(intercept,2))\n",
    "plt.annotate(line_eq,(49,30),fontsize=15,color=\"red\")\n",
    "plt.show()\n",
    "\n",
    "ax2 = plt.scatter(n_lat,n_humidity)\n",
    "plt.title('Temperature')\n",
    "plt.ylabel('Temperature (F)')\n",
    "(slope, intercept, rvalue, pvalue, stderr) = linregress(n_lat, n_temp)\n",
    "regress_values = n_lat[0] * slope + intercept\n",
    "line_eq = \"y = \" + str(round(slope,2)) + \"x + \" + str(round(intercept,2))\n",
    "plt.annotate(line_eq,(49,30),fontsize=15,color=\"red\")\n"
   ]
  },
  {
   "cell_type": "code",
   "execution_count": 50,
   "metadata": {},
   "outputs": [
    {
     "name": "stderr",
     "output_type": "stream",
     "text": [
      "C:\\Users\\niraj\\anaconda3\\envs\\PythonData\\lib\\site-packages\\ipykernel_launcher.py:53: UserWarning: Tight layout not applied. tight_layout cannot make axes height small enough to accommodate all axes decorations\n"
     ]
    },
    {
     "data": {
      "image/png": "[encoded data removed]",
      "text/plain": [
       "<Figure size 432x288 with 4 Axes>"
      ]
     },
     "metadata": {
      "needs_background": "light"
     },
     "output_type": "display_data"
    },
    {
     "data": {
      "text/plain": [
       "<Figure size 1440x1440 with 0 Axes>"
      ]
     },
     "metadata": {},
     "output_type": "display_data"
    }
   ],
   "source": [
    "#NORTH HEMISPHERE\n",
    "fig, axs = plt.subplots(2,2)\n",
    "\n",
    "#Temperature\n",
    "axs[0,0].scatter(n_lat,n_temp)\n",
    "axs[0,0].title.set_text('Temperature')\n",
    "axs[0,0].set_ylabel(\"Temperature (F)\")\n",
    "\n",
    "#Regressions\n",
    "(slope, intercept, rvalue, pvalue, stderr) = linregress(n_lat, n_temp)\n",
    "n_lat_series = pd.Series(n_lat)\n",
    "regress_values = n_lat_series* slope + intercept\n",
    "line_eq = \"y = \" + str(round(slope,2)) + \"x + \" + str(round(intercept,2))\n",
    "axs[0,0].text(49, 50, line_eq, size=10,color='red')\n",
    "axs[0,0].plot(n_lat_series,regress_values,\"r-\")\n",
    "\n",
    "#Humidity\n",
    "axs[0,1].scatter(n_lat,n_humidity)\n",
    "axs[0,1].title.set_text('Humidity')\n",
    "axs[0,1].set_ylabel(\"Humidity (%)\")\n",
    "\n",
    "#Regressions\n",
    "(slope, intercept, rvalue, pvalue, stderr) = linregress(n_lat, n_humidity)\n",
    "regress_values = n_lat_series* slope + intercept\n",
    "line_eq = \"y = \" + str(round(slope,2)) + \"x + \" + str(round(intercept,2))\n",
    "axs[0,1].text(49, 55, line_eq, size=10,color='red')\n",
    "axs[0,1].plot(n_lat_series,regress_values,\"r-\")\n",
    "\n",
    "#Cloudiness\n",
    "axs[1,0].scatter(n_lat,n_cloudiness)\n",
    "axs[1,0].title.set_text('Cloudiness')\n",
    "axs[1,0].set_ylabel(\"Cloudiness (%)\")\n",
    "\n",
    "#Regressions\n",
    "(slope, intercept, rvalue, pvalue, stderr) = linregress(n_lat, n_cloudiness)\n",
    "regress_values = n_lat_series* slope + intercept\n",
    "line_eq = \"y = \" + str(round(slope,2)) + \"x + \" + str(round(intercept,2))\n",
    "axs[1,0].text(49.5, 75, line_eq, size=10,color='red')\n",
    "axs[1,0].plot(n_lat_series,regress_values,\"r-\")\n",
    "\n",
    "#Wind Speed\n",
    "axs[1,1].scatter(n_lat,n_wind_spd)\n",
    "axs[1,1].title.set_text('Wind Speed')\n",
    "axs[1,1].set_ylabel(\"Wind Speed (mph)\")\n",
    "\n",
    "#Regressions\n",
    "(slope, intercept, rvalue, pvalue, stderr) = linregress(n_lat, n_wind_spd)\n",
    "regress_values = n_lat_series* slope + intercept\n",
    "line_eq = \"y = \" + str(round(slope,2)) + \"x + \" + str(round(intercept,2))\n",
    "axs[1,1].text(49, 10, line_eq, size=10,color='red')\n",
    "axs[1,1].plot(n_lat_series,regress_values,\"r-\")\n",
    "\n",
    "plt.tight_layout()\n",
    "plt.figure(figsize = (20,20))\n",
    "\n",
    "#Save figure to PNG file\n",
    "fig.savefig(\"PNG_Files/NorthLatitude.png\")\n"
   ]
  },
  {
   "cell_type": "code",
   "execution_count": 51,
   "metadata": {},
   "outputs": [],
   "source": [
    "#Create dataframe of cities and export to csv\n",
    "\n",
    "#Create structure of df\n",
    "n_cities_df = pd.DataFrame({'City':n_cities,\n",
    "                          'Temperature':n_temp, \n",
    "                          'Humidity':n_humidity,\n",
    "                          'Cloudiness':n_cloudiness, \n",
    "                          'Wind_Speed':n_wind_spd,\n",
    "                          'Latitude':n_lat})\n",
    "\n",
    "#Write to CSV file. Exclude indexes but include headers\n",
    "n_cities_df.to_csv(\"CSV_Outputs/NorthLatitudeTable.csv\", index = False, header = True)"
   ]
  },
  {
   "cell_type": "code",
   "execution_count": 52,
   "metadata": {},
   "outputs": [
    {
     "name": "stderr",
     "output_type": "stream",
     "text": [
      "C:\\Users\\niraj\\anaconda3\\envs\\PythonData\\lib\\site-packages\\ipykernel_launcher.py:54: UserWarning: Tight layout not applied. tight_layout cannot make axes height small enough to accommodate all axes decorations\n"
     ]
    },
    {
     "data": {
      "image/png": "[encoded data removed]",
      "text/plain": [
       "<Figure size 432x288 with 4 Axes>"
      ]
     },
     "metadata": {
      "needs_background": "light"
     },
     "output_type": "display_data"
    },
    {
     "data": {
      "text/plain": [
       "<Figure size 1440x1440 with 0 Axes>"
      ]
     },
     "metadata": {},
     "output_type": "display_data"
    }
   ],
   "source": [
    "#SOUTHERN HEMISPHERE\n",
    "#Temperature\n",
    "fig1, ax1 = plt.subplots(2,2)\n",
    "ax1[0,0].scatter(s_lat,s_temp)\n",
    "ax1[0,0].title.set_text('Temperature')\n",
    "ax1[0,0].set_ylabel(\"Temperature (F)\")\n",
    "\n",
    "#Regressions\n",
    "(slope, intercept, rvalue, pvalue, stderr) = linregress(s_lat, s_temp)\n",
    "s_lat_series = pd.Series(s_lat)\n",
    "regress_values = s_lat_series* slope + intercept\n",
    "line_eq = \"y = \" + str(round(slope,2)) + \"x + \" + str(round(intercept,2))\n",
    "ax1[0,0].text(-32, 59, line_eq, size=10,color='red')\n",
    "ax1[0,0].plot(s_lat_series,regress_values,\"r-\")\n",
    "\n",
    "\n",
    "#Humidity\n",
    "ax1[0,1].scatter(s_lat,s_humidity)\n",
    "ax1[0,1].title.set_text('Humidity')\n",
    "ax1[0,1].set_ylabel(\"Humidity (%)\")\n",
    "\n",
    "#Regressions\n",
    "(slope, intercept, rvalue, pvalue, stderr) = linregress(s_lat, s_humidity)\n",
    "regress_values = s_lat_series* slope + intercept\n",
    "line_eq = \"y = \" + str(round(slope,2)) + \"x + \" + str(round(intercept,2))\n",
    "ax1[0,1].text(-32, 59, line_eq, size=10,color='red')\n",
    "ax1[0,1].plot(s_lat_series,regress_values,\"r-\")\n",
    "\n",
    "\n",
    "#Cloudiness\n",
    "ax1[1,0].scatter(s_lat,s_cloudiness)\n",
    "ax1[1,0].title.set_text('Cloudiness')\n",
    "ax1[1,0].set_ylabel(\"Cloudiness (%)\")\n",
    "\n",
    "#Regressions\n",
    "(slope, intercept, rvalue, pvalue, stderr) = linregress(s_lat, s_cloudiness)\n",
    "s_lat_series = pd.Series(s_lat)\n",
    "regress_values = s_lat_series* slope + intercept\n",
    "line_eq = \"y = \" + str(round(slope,2)) + \"x + \" + str(round(intercept,2))\n",
    "ax1[1,0].text(-32, 5, line_eq, size=10,color='red')\n",
    "ax1[1,0].plot(s_lat_series,regress_values,\"r-\")\n",
    "\n",
    "ax1[1,1].scatter(s_lat,s_wind_spd)\n",
    "ax1[1,1].title.set_text('Wind Speed')\n",
    "ax1[1,1].set_ylabel(\"Wind Speed (mph)\")\n",
    "\n",
    "#Regressions\n",
    "(slope, intercept, rvalue, pvalue, stderr) = linregress(s_lat, s_wind_spd)\n",
    "regress_values = s_lat_series* slope + intercept\n",
    "line_eq = \"y = \" + str(round(slope,2)) + \"x + \" + str(round(intercept,2))\n",
    "ax1[1,1].text(-30, 6, line_eq, size=10,color='red')\n",
    "ax1[1,1].plot(s_lat_series,regress_values,\"r-\")\n",
    "\n",
    "plt.tight_layout()\n",
    "plt.figure(figsize = (20,20))\n",
    "\n",
    "#Save figure to PNG file\n",
    "fig.savefig(\"PNG_Files/SouthLatitude.png\")\n"
   ]
  },
  {
   "cell_type": "code",
   "execution_count": 53,
   "metadata": {},
   "outputs": [],
   "source": [
    "#Create dataframe of cities and export to csv\n",
    "\n",
    "#Create structure of df\n",
    "s_cities_df = pd.DataFrame({'City':s_cities,\n",
    "                          'Temperature':s_temp, \n",
    "                          'Humidity':s_humidity,\n",
    "                          'Cloudiness':s_cloudiness, \n",
    "                          'Wind_Speed':s_wind_spd,\n",
    "                          'Latitude':s_lat})\n",
    "\n",
    "#Write to CSV file. Exclude indexes but include headers\n",
    "s_cities_df.to_csv(\"CSV_Outputs/SouthLatitudeTable.csv\", index = False, header = True)"
   ]
  },
  {
   "cell_type": "markdown",
   "metadata": {},
   "source": [
    "# Part 2 : VacationPy"
   ]
  },
  {
   "cell_type": "code",
   "execution_count": 54,
   "metadata": {},
   "outputs": [],
   "source": [
    "import gmaps\n",
    "from config import gkey\n",
    "gmaps.configure(api_key=gkey)"
   ]
  },
  {
   "cell_type": "code",
   "execution_count": 58,
   "metadata": {},
   "outputs": [],
   "source": [
    "figure_layout = {\n",
    "    'width': '400px',\n",
    "    'height': '300px',\n",
    "    'border': '1px solid black',\n",
    "    'padding': '1px',\n",
    "    'margin': '0 auto 0 auto'\n",
    "}\n",
    "fig2 = gmaps.figure(layout=figure_layout)"
   ]
  },
  {
   "cell_type": "code",
   "execution_count": 57,
   "metadata": {},
   "outputs": [
    {
     "data": {
      "text/plain": [
       "0    61.0\n",
       "1    83.0\n",
       "2    87.0\n",
       "3    82.0\n",
       "Name: Humidity, dtype: float64"
      ]
     },
     "execution_count": 57,
     "metadata": {},
     "output_type": "execute_result"
    }
   ],
   "source": [
    "locations_df = cities_df[['Latitude','Longitude']].astype(float)\n",
    "\n",
    "humidity_df = cities_df['Humidity'].astype(float)\n",
    "\n",
    "humidity_df"
   ]
  },
  {
   "cell_type": "code",
   "execution_count": 64,
   "metadata": {},
   "outputs": [
    {
     "data": {
      "application/vnd.jupyter.widget-view+json": {
       "model_id": "d91c93200d7e48feb51011a5e97e073e",
       "version_major": 2,
       "version_minor": 0
      },
      "text/plain": [
       "Figure(layout=FigureLayout(border='1px solid black', height='300px', margin='0 auto 0 auto', padding='1px', wi…"
      ]
     },
     "metadata": {},
     "output_type": "display_data"
    }
   ],
   "source": [
    "heat_layer = gmaps.heatmap_layer(locations_df, weights = humidity_df, \n",
    "                                 dissipating = False, max_intensity = 100,\n",
    "                                 point_radius = 1)\n",
    "\n",
    "fig2.add_layer(heat_layer)\n",
    "fig2"
   ]
  },
  {
   "cell_type": "code",
   "execution_count": 81,
   "metadata": {},
   "outputs": [
    {
     "data": {
      "text/html": [
       "<div>\n",
       "<style scoped>\n",
       "    .dataframe tbody tr th:only-of-type {\n",
       "        vertical-align: middle;\n",
       "    }\n",
       "\n",
       "    .dataframe tbody tr th {\n",
       "        vertical-align: top;\n",
       "    }\n",
       "\n",
       "    .dataframe thead th {\n",
       "        text-align: right;\n",
       "    }\n",
       "</style>\n",
       "<table border=\"1\" class=\"dataframe\">\n",
       "  <thead>\n",
       "    <tr style=\"text-align: right;\">\n",
       "      <th></th>\n",
       "      <th>City</th>\n",
       "      <th>Temperature</th>\n",
       "      <th>Humidity</th>\n",
       "      <th>Cloudiness</th>\n",
       "      <th>Wind_Speed</th>\n",
       "      <th>Latitude</th>\n",
       "      <th>Longitude</th>\n",
       "    </tr>\n",
       "  </thead>\n",
       "  <tbody>\n",
       "    <tr>\n",
       "      <th>0</th>\n",
       "      <td>Paris</td>\n",
       "      <td>47.57</td>\n",
       "      <td>61</td>\n",
       "      <td>0</td>\n",
       "      <td>5.75</td>\n",
       "      <td>48.8534</td>\n",
       "      <td>2.3488</td>\n",
       "    </tr>\n",
       "    <tr>\n",
       "      <th>1</th>\n",
       "      <td>Sydney</td>\n",
       "      <td>69.13</td>\n",
       "      <td>83</td>\n",
       "      <td>75</td>\n",
       "      <td>5.75</td>\n",
       "      <td>-33.8679</td>\n",
       "      <td>151.2073</td>\n",
       "    </tr>\n",
       "    <tr>\n",
       "      <th>2</th>\n",
       "      <td>London</td>\n",
       "      <td>38.77</td>\n",
       "      <td>87</td>\n",
       "      <td>15</td>\n",
       "      <td>3.44</td>\n",
       "      <td>51.5085</td>\n",
       "      <td>-0.1257</td>\n",
       "    </tr>\n",
       "    <tr>\n",
       "      <th>3</th>\n",
       "      <td>Sao Paulo</td>\n",
       "      <td>60.40</td>\n",
       "      <td>82</td>\n",
       "      <td>20</td>\n",
       "      <td>8.05</td>\n",
       "      <td>-23.5475</td>\n",
       "      <td>-46.6361</td>\n",
       "    </tr>\n",
       "  </tbody>\n",
       "</table>\n",
       "</div>"
      ],
      "text/plain": [
       "        City  Temperature  Humidity  Cloudiness  Wind_Speed  Latitude  \\\n",
       "0      Paris        47.57        61           0        5.75   48.8534   \n",
       "1     Sydney        69.13        83          75        5.75  -33.8679   \n",
       "2     London        38.77        87          15        3.44   51.5085   \n",
       "3  Sao Paulo        60.40        82          20        8.05  -23.5475   \n",
       "\n",
       "   Longitude  \n",
       "0     2.3488  \n",
       "1   151.2073  \n",
       "2    -0.1257  \n",
       "3   -46.6361  "
      ]
     },
     "execution_count": 81,
     "metadata": {},
     "output_type": "execute_result"
    }
   ],
   "source": [
    "cities_df"
   ]
  },
  {
   "cell_type": "code",
   "execution_count": 90,
   "metadata": {},
   "outputs": [],
   "source": [
    "#Narrow down the DataFrame to find your ideal weather condition\n",
    "\n",
    "#Temparture between 70 and 80 (exclusive)\n",
    "ideal_cities_df = cities_df.loc[cities_df['Temperature'] < 80 & (cities_df['Temperature'] > 70), :]\n",
    "\n",
    "#Wind Speed < 10mph\n",
    "ideal_cities_df = ideal_cities_df.loc[ideal_cities_df['Wind_Speed'] < 10,:]\n",
    "\n",
    "#Zero cloudiness\n",
    "ideal_cities_df = ideal_cities_df.loc[ideal_cities_df['Cloudiness']==0,:]\n",
    "\n"
   ]
  },
  {
   "cell_type": "code",
   "execution_count": 91,
   "metadata": {},
   "outputs": [
    {
     "data": {
      "text/html": [
       "<div>\n",
       "<style scoped>\n",
       "    .dataframe tbody tr th:only-of-type {\n",
       "        vertical-align: middle;\n",
       "    }\n",
       "\n",
       "    .dataframe tbody tr th {\n",
       "        vertical-align: top;\n",
       "    }\n",
       "\n",
       "    .dataframe thead th {\n",
       "        text-align: right;\n",
       "    }\n",
       "</style>\n",
       "<table border=\"1\" class=\"dataframe\">\n",
       "  <thead>\n",
       "    <tr style=\"text-align: right;\">\n",
       "      <th></th>\n",
       "      <th>City</th>\n",
       "      <th>Temperature</th>\n",
       "      <th>Humidity</th>\n",
       "      <th>Cloudiness</th>\n",
       "      <th>Wind_Speed</th>\n",
       "      <th>Latitude</th>\n",
       "      <th>Longitude</th>\n",
       "    </tr>\n",
       "  </thead>\n",
       "  <tbody>\n",
       "  </tbody>\n",
       "</table>\n",
       "</div>"
      ],
      "text/plain": [
       "Empty DataFrame\n",
       "Columns: [City, Temperature, Humidity, Cloudiness, Wind_Speed, Latitude, Longitude]\n",
       "Index: []"
      ]
     },
     "execution_count": 91,
     "metadata": {},
     "output_type": "execute_result"
    }
   ],
   "source": [
    "ideal_cities_df"
   ]
  },
  {
   "cell_type": "code",
   "execution_count": null,
   "metadata": {},
   "outputs": [],
   "source": []
  }
 ],
 "metadata": {
  "kernelspec": {
   "display_name": "Python [conda env:PythonData] *",
   "language": "python",
   "name": "conda-env-PythonData-py"
  },
  "language_info": {
   "codemirror_mode": {
    "name": "ipython",
    "version": 3
   },
   "file_extension": ".py",
   "mimetype": "text/x-python",
   "name": "python",
   "nbconvert_exporter": "python",
   "pygments_lexer": "ipython3",
   "version": "3.6.10"
  }
 },
 "nbformat": 4,
 "nbformat_minor": 4
}
