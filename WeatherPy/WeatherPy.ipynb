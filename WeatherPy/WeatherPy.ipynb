{
 "cells": [
  {
   "cell_type": "markdown",
   "metadata": {},
   "source": [
    "# Part 1 : WeatherPy\n",
    "\n",
    "Your final notebook must:\n",
    "\n",
    "1. Randomly select at least 500 unique (non-repeat) cities based on latitude and longitude.\n",
    "2. Perform a weather check on each of the cities using a series of successive API calls.\n",
    "3. Include a print log of each city as it's being processed with the city number and city name.\n",
    "4. ~~Save a CSV of all retrieved data and a PNG image for each scatter plot.~~"
   ]
  },
  {
   "cell_type": "code",
   "execution_count": 1,
   "metadata": {},
   "outputs": [],
   "source": [
    "# Dependencies\n",
    "import matplotlib.pyplot as plt\n",
    "import requests\n",
    "from scipy import stats\n",
    "import pandas as pd\n",
    "from config import api_key\n",
    "import json\n",
    "from scipy.stats import linregress\n",
    "from config import gkey\n",
    "import numpy as np\n",
    "from citipy import citipy\n",
    "import time"
   ]
  },
  {
   "cell_type": "code",
   "execution_count": 2,
   "metadata": {},
   "outputs": [],
   "source": [
    "# Save config information.\n",
    "url = \"http://api.openweathermap.org/data/2.5/weather?\"\n",
    "units = \"imperial\"\n",
    "\n",
    "# Build partial query URL\n",
    "query_url = f\"{url}appid={api_key}&units={units}&q=\""
   ]
  },
  {
   "cell_type": "markdown",
   "metadata": {},
   "source": [
    "# Latitude vs Humidity, Cloudiness, & Wind Speed"
   ]
  },
  {
   "cell_type": "code",
   "execution_count": 3,
   "metadata": {},
   "outputs": [
    {
     "data": {
      "text/plain": [
       "10"
      ]
     },
     "execution_count": 3,
     "metadata": {},
     "output_type": "execute_result"
    }
   ],
   "source": [
    "#Define latitude and longitude min and max\n",
    "lat_range = (-90, 90)\n",
    "long_range = (-180, 180)\n",
    "\n",
    "# List for holding lat_lngs and cities\n",
    "lat_lngs = []\n",
    "cities = []\n",
    "\n",
    "#Create a set of random lat and lng combinations\n",
    "lats = np.random.uniform(lat_range[0], lat_range[1], size=10)\n",
    "longs = np.random.uniform(long_range[0], long_range[1], size=10)\n",
    "lat_long = zip(lats, longs)\n",
    "\n",
    "for lat_long in lat_long:\n",
    "    city = citipy.nearest_city(lat_long[0], lat_long[1]).city_name\n",
    "    \n",
    "    # If the city is unique, then add it to a our cities list\n",
    "    if city not in cities:\n",
    "        cities.append(city)\n",
    "\n",
    "len(cities)"
   ]
  },
  {
   "cell_type": "code",
   "execution_count": 4,
   "metadata": {},
   "outputs": [
    {
     "name": "stdout",
     "output_type": "stream",
     "text": [
      "Beginning Data Retrieval\n",
      "-----------------------------\n",
      "Processing Record 1 of Set 1|lebu\n",
      "Processing Record 2 of Set 1|bredasdorp\n",
      "City not found. Skipping...\n",
      "Processing Record 3 of Set 1|snezhnogorsk\n",
      "Processing Record 4 of Set 1|broken hill\n",
      "Processing Record 5 of Set 1|klaksvik\n",
      "Processing Record 6 of Set 1|bluff\n",
      "City not found. Skipping...\n",
      "Processing Record 7 of Set 1|hobart\n",
      "Processing Record 8 of Set 1|rikitea\n",
      "----------------------------\n",
      "-Data Retrieval Complete\n",
      "----------------------------\n"
     ]
    }
   ],
   "source": [
    "#Counting variables\n",
    "record = 0\n",
    "count = 1\n",
    "\n",
    "#Create empty lists to index to\n",
    "country = [] \n",
    "temp = []\n",
    "humidity = []\n",
    "cloudiness = []\n",
    "wind_spd = []\n",
    "lat = []\n",
    "long = []\n",
    "\n",
    "#Keep list of cities not found\n",
    "bad_cities = []\n",
    "\n",
    "print('Beginning Data Retrieval')\n",
    "print('-----------------------------')\n",
    "\n",
    "#iterate through desired cities and pull temperature, humidity, cloudiness, wind speed, and latitude coordinate\n",
    "for city in cities:\n",
    "    \n",
    "    try:\n",
    "        response = requests.get(query_url + city).json()\n",
    "\n",
    "        country.append(response['sys']['country'])\n",
    "        temp.append(response['main']['temp'])\n",
    "        humidity.append(response['main']['humidity'])\n",
    "        cloudiness.append(response['clouds']['all'])\n",
    "        wind_spd.append(response['wind']['speed'])\n",
    "        lat.append(response['coord']['lat'])\n",
    "        long.append(response['coord']['lon'])\n",
    "        \n",
    "        if record == 50:\n",
    "            record = 1\n",
    "            count = count + 1\n",
    "        else:\n",
    "            record = record + 1\n",
    "        \n",
    "        print(f'Processing Record {record} of Set {count}|{city}')\n",
    "        time.sleep(1.01)\n",
    "            \n",
    "        \n",
    "    except:\n",
    "        print('City not found. Skipping...')\n",
    "        bad_cities.append(city)\n",
    "        pass\n",
    "        time.sleep(1.01)\n",
    "\n",
    "#Get rid of bad cities\n",
    "for badcity in bad_cities:\n",
    "    cities.remove(badcity)\n",
    "        \n",
    "print('----------------------------')\n",
    "print('-Data Retrieval Complete')\n",
    "print('----------------------------')"
   ]
  },
  {
   "cell_type": "code",
   "execution_count": 5,
   "metadata": {},
   "outputs": [
    {
     "data": {
      "image/png": "[encoded data removed]",
      "text/plain": [
       "<Figure size 432x288 with 4 Axes>"
      ]
     },
     "metadata": {
      "needs_background": "light"
     },
     "output_type": "display_data"
    },
    {
     "data": {
      "text/plain": [
       "<Figure size 1440x1440 with 0 Axes>"
      ]
     },
     "metadata": {},
     "output_type": "display_data"
    }
   ],
   "source": [
    "#Plot scatter plots\n",
    "fig, axs = plt.subplots(2,2)\n",
    "axs[0,0].scatter(lat,temp)\n",
    "axs[0,0].title.set_text('Temperature')\n",
    "axs[0,0].set_ylabel(\"Temperature (F)\")\n",
    "plt.show\n",
    "\n",
    "axs[0,1].scatter(lat,humidity)\n",
    "axs[0,1].title.set_text('Humidity')\n",
    "axs[0,1].set_ylabel(\"Humidity (%)\")\n",
    "\n",
    "axs[1,0].scatter(lat,cloudiness)\n",
    "axs[1,0].title.set_text('Cloudiness')\n",
    "axs[1,0].set_ylabel(\"Cloudiness (%)\")\n",
    "\n",
    "axs[1,1].scatter(lat,wind_spd)\n",
    "axs[1,1].title.set_text('Wind Speed')\n",
    "axs[1,1].set_ylabel(\"Wind Speed (mph)\")\n",
    "\n",
    "plt.tight_layout()\n",
    "plt.figure(figsize = (20,20))\n",
    "\n",
    "\n",
    "#Save figure to PNG file\n",
    "fig.savefig(\"PNG_Files/Weather.png\")"
   ]
  },
  {
   "cell_type": "code",
   "execution_count": 6,
   "metadata": {},
   "outputs": [
    {
     "name": "stdout",
     "output_type": "stream",
     "text": [
      "8\n",
      "8\n",
      "8\n",
      "8\n",
      "8\n",
      "8\n"
     ]
    }
   ],
   "source": [
    "print(len(cities))\n",
    "print(len(country))\n",
    "print(len(temp))\n",
    "print(len(humidity))\n",
    "print(len(cloudiness))\n",
    "print(len(wind_spd))"
   ]
  },
  {
   "cell_type": "code",
   "execution_count": 7,
   "metadata": {
    "scrolled": true
   },
   "outputs": [
    {
     "data": {
      "text/html": [
       "<div>\n",
       "<style scoped>\n",
       "    .dataframe tbody tr th:only-of-type {\n",
       "        vertical-align: middle;\n",
       "    }\n",
       "\n",
       "    .dataframe tbody tr th {\n",
       "        vertical-align: top;\n",
       "    }\n",
       "\n",
       "    .dataframe thead th {\n",
       "        text-align: right;\n",
       "    }\n",
       "</style>\n",
       "<table border=\"1\" class=\"dataframe\">\n",
       "  <thead>\n",
       "    <tr style=\"text-align: right;\">\n",
       "      <th></th>\n",
       "      <th>City</th>\n",
       "      <th>Country</th>\n",
       "      <th>Temperature</th>\n",
       "      <th>Humidity</th>\n",
       "      <th>Cloudiness</th>\n",
       "      <th>Wind_Speed</th>\n",
       "      <th>Latitude</th>\n",
       "      <th>Longitude</th>\n",
       "    </tr>\n",
       "  </thead>\n",
       "  <tbody>\n",
       "    <tr>\n",
       "      <th>0</th>\n",
       "      <td>lebu</td>\n",
       "      <td>CL</td>\n",
       "      <td>55.38</td>\n",
       "      <td>96</td>\n",
       "      <td>100</td>\n",
       "      <td>12.95</td>\n",
       "      <td>-37.6167</td>\n",
       "      <td>-73.6500</td>\n",
       "    </tr>\n",
       "    <tr>\n",
       "      <th>1</th>\n",
       "      <td>bredasdorp</td>\n",
       "      <td>ZA</td>\n",
       "      <td>42.80</td>\n",
       "      <td>87</td>\n",
       "      <td>3</td>\n",
       "      <td>3.94</td>\n",
       "      <td>-34.5322</td>\n",
       "      <td>20.0403</td>\n",
       "    </tr>\n",
       "    <tr>\n",
       "      <th>2</th>\n",
       "      <td>snezhnogorsk</td>\n",
       "      <td>RU</td>\n",
       "      <td>15.80</td>\n",
       "      <td>86</td>\n",
       "      <td>40</td>\n",
       "      <td>2.24</td>\n",
       "      <td>69.1933</td>\n",
       "      <td>33.2531</td>\n",
       "    </tr>\n",
       "    <tr>\n",
       "      <th>3</th>\n",
       "      <td>broken hill</td>\n",
       "      <td>AU</td>\n",
       "      <td>78.80</td>\n",
       "      <td>34</td>\n",
       "      <td>0</td>\n",
       "      <td>10.36</td>\n",
       "      <td>-31.9500</td>\n",
       "      <td>141.4333</td>\n",
       "    </tr>\n",
       "    <tr>\n",
       "      <th>4</th>\n",
       "      <td>klaksvik</td>\n",
       "      <td>FO</td>\n",
       "      <td>35.60</td>\n",
       "      <td>80</td>\n",
       "      <td>20</td>\n",
       "      <td>3.44</td>\n",
       "      <td>62.2266</td>\n",
       "      <td>-6.5890</td>\n",
       "    </tr>\n",
       "    <tr>\n",
       "      <th>5</th>\n",
       "      <td>bluff</td>\n",
       "      <td>NZ</td>\n",
       "      <td>60.01</td>\n",
       "      <td>76</td>\n",
       "      <td>99</td>\n",
       "      <td>5.99</td>\n",
       "      <td>-46.6000</td>\n",
       "      <td>168.3333</td>\n",
       "    </tr>\n",
       "    <tr>\n",
       "      <th>6</th>\n",
       "      <td>hobart</td>\n",
       "      <td>AU</td>\n",
       "      <td>65.64</td>\n",
       "      <td>52</td>\n",
       "      <td>0</td>\n",
       "      <td>8.05</td>\n",
       "      <td>-42.8794</td>\n",
       "      <td>147.3294</td>\n",
       "    </tr>\n",
       "    <tr>\n",
       "      <th>7</th>\n",
       "      <td>rikitea</td>\n",
       "      <td>PF</td>\n",
       "      <td>75.96</td>\n",
       "      <td>79</td>\n",
       "      <td>97</td>\n",
       "      <td>9.04</td>\n",
       "      <td>-23.1203</td>\n",
       "      <td>-134.9692</td>\n",
       "    </tr>\n",
       "  </tbody>\n",
       "</table>\n",
       "</div>"
      ],
      "text/plain": [
       "           City Country  Temperature  Humidity  Cloudiness  Wind_Speed  \\\n",
       "0          lebu      CL        55.38        96         100       12.95   \n",
       "1    bredasdorp      ZA        42.80        87           3        3.94   \n",
       "2  snezhnogorsk      RU        15.80        86          40        2.24   \n",
       "3   broken hill      AU        78.80        34           0       10.36   \n",
       "4      klaksvik      FO        35.60        80          20        3.44   \n",
       "5         bluff      NZ        60.01        76          99        5.99   \n",
       "6        hobart      AU        65.64        52           0        8.05   \n",
       "7       rikitea      PF        75.96        79          97        9.04   \n",
       "\n",
       "   Latitude  Longitude  \n",
       "0  -37.6167   -73.6500  \n",
       "1  -34.5322    20.0403  \n",
       "2   69.1933    33.2531  \n",
       "3  -31.9500   141.4333  \n",
       "4   62.2266    -6.5890  \n",
       "5  -46.6000   168.3333  \n",
       "6  -42.8794   147.3294  \n",
       "7  -23.1203  -134.9692  "
      ]
     },
     "execution_count": 7,
     "metadata": {},
     "output_type": "execute_result"
    }
   ],
   "source": [
    "#Create dataframe of cities and export to csv\n",
    "\n",
    "#Create structure of df\n",
    "cities_df = pd.DataFrame({'City':cities,\n",
    "                          'Country':country,\n",
    "                          'Temperature':temp, \n",
    "                          'Humidity':humidity,\n",
    "                          'Cloudiness':cloudiness, \n",
    "                          'Wind_Speed':wind_spd,\n",
    "                          'Latitude':lat,\n",
    "                          'Longitude':long})\n",
    "\n",
    "#Write to CSV file. Exclude indexes but include headers\n",
    "cities_df.to_csv(\"CSV_Outputs/WeatherTable.csv\", index = False, header = True)\n",
    "\n",
    "cities_df"
   ]
  },
  {
   "cell_type": "markdown",
   "metadata": {},
   "source": [
    "# North vs South Latitude "
   ]
  },
  {
   "cell_type": "code",
   "execution_count": 8,
   "metadata": {},
   "outputs": [],
   "source": [
    "#Create empty lists to index to; split between North and South \n",
    "\n",
    "#North Latitude Variables\n",
    "n_cities = []\n",
    "n_temp = []\n",
    "n_humidity = []\n",
    "n_cloudiness = []\n",
    "n_wind_spd = []\n",
    "n_lat = []\n",
    "\n",
    "#South Latitude Variables\n",
    "s_cities = []\n",
    "s_temp = []\n",
    "s_humidity = []\n",
    "s_cloudiness = []\n",
    "s_wind_spd = []\n",
    "s_lat = []\n",
    "\n",
    "#iterate through desired cities and pull temperature, humidity, cloudiness, wind speed, and latitude coordinate\n",
    "for city in cities:\n",
    "    response = requests.get(query_url + city).json()\n",
    "    if response['coord']['lat'] > 0:\n",
    "        n_cities.append(city)\n",
    "        n_temp.append(response['main']['temp'])\n",
    "        n_humidity.append(response['main']['humidity'])\n",
    "        n_cloudiness.append(response['clouds']['all'])\n",
    "        n_wind_spd.append(response['wind']['speed'])\n",
    "        n_lat.append(response['coord']['lat'])\n",
    "    else:\n",
    "        s_cities.append(city)\n",
    "        s_temp.append(response['main']['temp'])\n",
    "        s_humidity.append(response['main']['humidity'])\n",
    "        s_cloudiness.append(response['clouds']['all'])\n",
    "        s_wind_spd.append(response['wind']['speed'])\n",
    "        s_lat.append(response['coord']['lat'])\n"
   ]
  },
  {
   "cell_type": "code",
   "execution_count": 9,
   "metadata": {},
   "outputs": [
    {
     "name": "stdout",
     "output_type": "stream",
     "text": [
      "The correlation between Latitude and Temperature is 15.80\n",
      "The correlation between Latitude and Humidity is 86.00\n",
      "The correlation between Latitude and Cloudiness is 40.00\n",
      "The correlation between Latitude and Wind Speed is 2.24\n"
     ]
    },
    {
     "data": {
      "image/png": "[encoded data removed]",
      "text/plain": [
       "<Figure size 432x288 with 4 Axes>"
      ]
     },
     "metadata": {
      "needs_background": "light"
     },
     "output_type": "display_data"
    },
    {
     "data": {
      "text/plain": [
       "<Figure size 1440x1440 with 0 Axes>"
      ]
     },
     "metadata": {},
     "output_type": "display_data"
    }
   ],
   "source": [
    "#NORTH HEMISPHERE\n",
    "fig, axs = plt.subplots(2,2)\n",
    "\n",
    "#Temperature\n",
    "axs[0,0].scatter(n_lat,n_temp)\n",
    "axs[0,0].title.set_text('Temperature')\n",
    "axs[0,0].set_ylabel(\"Temperature (F)\")\n",
    "axs[0,0].set_xlim([min(n_lat)-5,max(n_lat)+5])\n",
    "axs[0,0].set_ylim([-20,120])\n",
    "\n",
    "#Regressions\n",
    "(slope, intercept, rvalue, pvalue, stderr) = linregress(n_lat, n_temp)\n",
    "n_lat_series = pd.Series(n_lat)\n",
    "regress_values_temp = n_lat_series* slope + intercept\n",
    "line_eq_temp = \"y = \" + str(round(slope,2)) + \"x + \" + str(round(intercept,2))\n",
    "#axs[0,0].text(0, 0, line_eq, size=10,color='red')\n",
    "axs[0,0].plot(n_lat_series,regress_values_temp,\"r-\")\n",
    "\n",
    "#Humidity\n",
    "axs[0,1].scatter(n_lat,n_humidity)\n",
    "axs[0,1].title.set_text('Humidity')\n",
    "axs[0,1].set_ylabel(\"Humidity (%)\")\n",
    "axs[0,1].set_xlim([min(n_lat)-5,max(n_lat)+5])\n",
    "axs[0,1].set_ylim([0,100])\n",
    "\n",
    "#Regressions\n",
    "(slope, intercept, rvalue, pvalue, stderr) = linregress(n_lat, n_humidity)\n",
    "regress_values_humid = n_lat_series* slope + intercept\n",
    "line_eq_humid = \"y = \" + str(round(slope,2)) + \"x + \" + str(round(intercept,2))\n",
    "#axs[0,1].text(1,1, line_eq, size=10,color='red')\n",
    "axs[0,1].plot(n_lat_series,regress_values_humid,\"r-\")\n",
    "\n",
    "#Cloudiness\n",
    "axs[1,0].scatter(n_lat,n_cloudiness)\n",
    "axs[1,0].title.set_text('Cloudiness')\n",
    "axs[1,0].set_ylabel(\"Cloudiness (%)\")\n",
    "axs[1,0].set_xlim([min(n_lat)-5,max(n_lat)+5])\n",
    "axs[1,0].set_ylim([0,100])\n",
    "\n",
    "#Regressions\n",
    "(slope, intercept, rvalue, pvalue, stderr) = linregress(n_lat, n_cloudiness)\n",
    "regress_values_cloud = n_lat_series* slope + intercept\n",
    "line_eq_cloud = \"y = \" + str(round(slope,2)) + \"x + \" + str(round(intercept,2))\n",
    "#axs[1,0].text(1, 1, line_eq, size=10,color='red')\n",
    "axs[1,0].plot(n_lat_series,regress_values_cloud,\"r-\")\n",
    "\n",
    "#Wind Speed\n",
    "axs[1,1].scatter(n_lat,n_wind_spd)\n",
    "axs[1,1].title.set_text('Wind Speed')\n",
    "axs[1,1].set_ylabel(\"Wind Speed (mph)\")\n",
    "axs[1,1].set_xlim([min(n_lat)-5,max(n_lat)+5])\n",
    "axs[1,1].set_ylim([0,100])\n",
    "\n",
    "#Regressions\n",
    "(slope, intercept, rvalue, pvalue, stderr) = linregress(n_lat, n_wind_spd)\n",
    "regress_values_wndspd = n_lat_series* slope + intercept\n",
    "line_eq_wndspd = \"y = \" + str(round(slope,2)) + \"x + \" + str(round(intercept,2))\n",
    "#axs[1,1].text(49, 10, line_eq, size=10,color='red')\n",
    "axs[1,1].plot(n_lat_series,regress_values_wndspd,\"r-\")\n",
    "\n",
    "plt.tight_layout()\n",
    "plt.figure(figsize = (20,20))\n",
    "\n",
    "#Save figure to PNG file\n",
    "fig.savefig(\"PNG_Files/NorthLatitude.png\")\n",
    "\n",
    "\n",
    "#Print some text talking about each of the plots\n",
    "regress_values_list = [regress_values_temp[0],regress_values_humid[0],regress_values_cloud[0],regress_values_wndspd[0]]\n",
    "plots_list = ['Temperature', 'Humidity', 'Cloudiness', 'Wind Speed']\n",
    "\n",
    "for index in range(0,4):\n",
    "    if regress_values_list[index] >.75 and regress_values_list[index] < 1.25:\n",
    "        corr_str = \"a positive and notable\"\n",
    "    if regress_values_list[index] < -.75 and regress_values_list[index] > -1.25:\n",
    "        corr_str = \"a negative and notable\"\n",
    "    else:\n",
    "        corr_str = \"no notable\"\n",
    "    \n",
    "    print(f'The correlation between Latitude and {plots_list[index]} is {regress_values_list[index]:.2f}')"
   ]
  },
  {
   "cell_type": "code",
   "execution_count": 10,
   "metadata": {},
   "outputs": [],
   "source": [
    "#Create dataframe of cities and export to csv\n",
    "\n",
    "#Create structure of df\n",
    "n_cities_df = pd.DataFrame({'City':n_cities,\n",
    "                          'Temperature':n_temp, \n",
    "                          'Humidity':n_humidity,\n",
    "                          'Cloudiness':n_cloudiness, \n",
    "                          'Wind_Speed':n_wind_spd,\n",
    "                          'Latitude':n_lat})\n",
    "\n",
    "#Write to CSV file. Exclude indexes but include headers\n",
    "n_cities_df.to_csv(\"CSV_Outputs/NorthLatitudeTable.csv\", index = False, header = True)"
   ]
  },
  {
   "cell_type": "code",
   "execution_count": 11,
   "metadata": {},
   "outputs": [
    {
     "name": "stdout",
     "output_type": "stream",
     "text": [
      "The correlation between Latitude and Temperature is 62.12\n",
      "The correlation between Latitude and Humidity is 70.61\n",
      "The correlation between Latitude and Cloudiness is 49.50\n",
      "The correlation between Latitude and Wind Speed is 8.26\n"
     ]
    },
    {
     "data": {
      "image/png": "[encoded data removed]",
      "text/plain": [
       "<Figure size 432x288 with 4 Axes>"
      ]
     },
     "metadata": {
      "needs_background": "light"
     },
     "output_type": "display_data"
    },
    {
     "data": {
      "text/plain": [
       "<Figure size 1440x1440 with 0 Axes>"
      ]
     },
     "metadata": {},
     "output_type": "display_data"
    }
   ],
   "source": [
    "#SOUTHERN HEMISPHERE\n",
    "\n",
    "\n",
    "#Temperature\n",
    "fig1, ax1 = plt.subplots(2,2)\n",
    "ax1[0,0].scatter(s_lat,s_temp)\n",
    "ax1[0,0].title.set_text('Temperature')\n",
    "ax1[0,0].set_ylabel(\"Temperature (F)\")\n",
    "ax1[0,0].set_xlim([min(s_lat)-5,max(s_lat)+5])\n",
    "ax1[0,0].set_ylim([-20,120])\n",
    "\n",
    "#Regressions\n",
    "(slope, intercept, rvalue, pvalue, stderr) = linregress(s_lat, s_temp)\n",
    "s_lat_series = pd.Series(s_lat)\n",
    "regress_values_temp = s_lat_series* slope + intercept\n",
    "line_eq = \"y = \" + str(round(slope,2)) + \"x + \" + str(round(intercept,2))\n",
    "#ax1[0,0].text(-32, 59, line_eq, size=10,color='red')\n",
    "ax1[0,0].plot(s_lat_series,regress_values_temp,\"r-\")\n",
    "\n",
    "\n",
    "#Humidity\n",
    "ax1[0,1].scatter(s_lat,s_humidity)\n",
    "ax1[0,1].title.set_text('Humidity')\n",
    "ax1[0,1].set_ylabel(\"Humidity (%)\")\n",
    "ax1[0,1].set_xlim([min(s_lat)-5,max(s_lat)+5])\n",
    "\n",
    "#Regressions\n",
    "(slope, intercept, rvalue, pvalue, stderr) = linregress(s_lat, s_humidity)\n",
    "regress_values_humid = s_lat_series* slope + intercept\n",
    "line_eq = \"y = \" + str(round(slope,2)) + \"x + \" + str(round(intercept,2))\n",
    "#ax1[0,1].text(-32, 59, line_eq, size=10,color='red')\n",
    "ax1[0,1].plot(s_lat_series,regress_values_humid,\"r-\")\n",
    "\n",
    "\n",
    "#Cloudiness\n",
    "ax1[1,0].scatter(s_lat,s_cloudiness)\n",
    "ax1[1,0].title.set_text('Cloudiness')\n",
    "ax1[1,0].set_ylabel(\"Cloudiness (%)\")\n",
    "ax1[1,0].set_xlim([min(s_lat)-5,max(s_lat)+5])\n",
    "\n",
    "#Regressions\n",
    "(slope, intercept, rvalue, pvalue, stderr) = linregress(s_lat, s_cloudiness)\n",
    "s_lat_series = pd.Series(s_lat)\n",
    "regress_values_cloud = s_lat_series* slope + intercept\n",
    "line_eq = \"y = \" + str(round(slope,2)) + \"x + \" + str(round(intercept,2))\n",
    "#ax1[1,0].text(-32, 5, line_eq, size=10,color='red')\n",
    "ax1[1,0].plot(s_lat_series,regress_values_cloud,\"r-\")\n",
    "\n",
    "\n",
    "#Wind Speed\n",
    "ax1[1,1].scatter(s_lat,s_wind_spd)\n",
    "ax1[1,1].title.set_text('Wind Speed')\n",
    "ax1[1,1].set_ylabel(\"Wind Speed (mph)\")\n",
    "ax1[1,1].set_xlim([min(s_lat)-5,max(s_lat)+5])\n",
    "\n",
    "#Regressions\n",
    "(slope, intercept, rvalue, pvalue, stderr) = linregress(s_lat, s_wind_spd)\n",
    "regress_values_wndspd = s_lat_series* slope + intercept\n",
    "line_eq = \"y = \" + str(round(slope,2)) + \"x + \" + str(round(intercept,2))\n",
    "#ax1[1,1].text(-30, 6, line_eq, size=10,color='red')\n",
    "ax1[1,1].plot(s_lat_series,regress_values_wndspd,\"r-\")\n",
    "\n",
    "plt.tight_layout()\n",
    "plt.figure(figsize = (20,20))\n",
    "\n",
    "#Save figure to PNG file\n",
    "fig.savefig(\"PNG_Files/SouthLatitude.png\")\n",
    "\n",
    "#Print some text talking about each of the plots\n",
    "regress_values_list = [regress_values_temp[0],regress_values_humid[0],regress_values_cloud[0],regress_values_wndspd[0]]\n",
    "plots_list = ['Temperature', 'Humidity', 'Cloudiness', 'Wind Speed']\n",
    "\n",
    "for index in range(0,4):\n",
    "    if regress_values_list[index] >.75 and regress_values_list[index] < 1.25:\n",
    "        corr_str = \"a positive and notable\"\n",
    "    if regress_values_list[index] < -.75 and regress_values_list[index] > -1.25:\n",
    "        corr_str = \"a negative and notable\"\n",
    "    else:\n",
    "        corr_str = \"no notable\"\n",
    "    \n",
    "    print(f'The correlation between Latitude and {plots_list[index]} is {regress_values_list[index]:.2f}')\n"
   ]
  },
  {
   "cell_type": "code",
   "execution_count": 12,
   "metadata": {},
   "outputs": [],
   "source": [
    "#Create dataframe of cities and export to csv\n",
    "\n",
    "#Create structure of df\n",
    "s_cities_df = pd.DataFrame({'City':s_cities,\n",
    "                          'Temperature':s_temp, \n",
    "                          'Humidity':s_humidity,\n",
    "                          'Cloudiness':s_cloudiness, \n",
    "                          'Wind_Speed':s_wind_spd,\n",
    "                          'Latitude':s_lat})\n",
    "\n",
    "#Write to CSV file. Exclude indexes but include headers\n",
    "s_cities_df.to_csv(\"CSV_Outputs/SouthLatitudeTable.csv\", index = False, header = True)"
   ]
  },
  {
   "cell_type": "markdown",
   "metadata": {},
   "source": [
    "# Part 2 : VacationPy"
   ]
  },
  {
   "cell_type": "code",
   "execution_count": 13,
   "metadata": {},
   "outputs": [],
   "source": [
    "import gmaps\n",
    "from config import gkey\n",
    "gmaps.configure(api_key=gkey)"
   ]
  },
  {
   "cell_type": "code",
   "execution_count": 14,
   "metadata": {},
   "outputs": [],
   "source": [
    "figure_layout = {\n",
    "    'width': '400px',\n",
    "    'height': '300px',\n",
    "    'border': '1px solid black',\n",
    "    'padding': '1px',\n",
    "    'margin': '0 auto 0 auto'\n",
    "}\n",
    "fig2 = gmaps.figure(layout=figure_layout)"
   ]
  },
  {
   "cell_type": "code",
   "execution_count": 15,
   "metadata": {},
   "outputs": [],
   "source": [
    "locations_df = cities_df[['Latitude','Longitude']].astype(float)\n",
    "\n",
    "humidity_df = cities_df['Humidity'].astype(float)"
   ]
  },
  {
   "cell_type": "code",
   "execution_count": 16,
   "metadata": {},
   "outputs": [
    {
     "data": {
      "application/vnd.jupyter.widget-view+json": {
       "model_id": "469ccaba207e4d25a59dfce9371d0c2d",
       "version_major": 2,
       "version_minor": 0
      },
      "text/plain": [
       "Figure(layout=FigureLayout(border='1px solid black', height='300px', margin='0 auto 0 auto', padding='1px', wi…"
      ]
     },
     "metadata": {},
     "output_type": "display_data"
    }
   ],
   "source": [
    "heat_layer = gmaps.heatmap_layer(locations_df, weights = humidity_df, \n",
    "                                 dissipating = False, max_intensity = 100,\n",
    "                                 point_radius = 1)\n",
    "\n",
    "fig2.add_layer(heat_layer)\n",
    "fig2"
   ]
  },
  {
   "cell_type": "code",
   "execution_count": 25,
   "metadata": {},
   "outputs": [
    {
     "data": {
      "text/html": [
       "<div>\n",
       "<style scoped>\n",
       "    .dataframe tbody tr th:only-of-type {\n",
       "        vertical-align: middle;\n",
       "    }\n",
       "\n",
       "    .dataframe tbody tr th {\n",
       "        vertical-align: top;\n",
       "    }\n",
       "\n",
       "    .dataframe thead th {\n",
       "        text-align: right;\n",
       "    }\n",
       "</style>\n",
       "<table border=\"1\" class=\"dataframe\">\n",
       "  <thead>\n",
       "    <tr style=\"text-align: right;\">\n",
       "      <th></th>\n",
       "      <th>City</th>\n",
       "      <th>Country</th>\n",
       "      <th>Temperature</th>\n",
       "      <th>Humidity</th>\n",
       "      <th>Cloudiness</th>\n",
       "      <th>Wind_Speed</th>\n",
       "      <th>Latitude</th>\n",
       "      <th>Longitude</th>\n",
       "    </tr>\n",
       "  </thead>\n",
       "  <tbody>\n",
       "  </tbody>\n",
       "</table>\n",
       "</div>"
      ],
      "text/plain": [
       "Empty DataFrame\n",
       "Columns: [City, Country, Temperature, Humidity, Cloudiness, Wind_Speed, Latitude, Longitude]\n",
       "Index: []"
      ]
     },
     "execution_count": 25,
     "metadata": {},
     "output_type": "execute_result"
    }
   ],
   "source": [
    "#Narrow down the DataFrame to find your ideal weather condition\n",
    "\n",
    "#Temparture between 70 and 80 (exclusive)\n",
    "ideal_cities_df = cities_df.loc[cities_df['Temperature'] < 80 & (cities_df['Temperature'] > 70), :]\n",
    "\n",
    "#Wind Speed < 10mph\n",
    "ideal_cities_df = ideal_cities_df.loc[ideal_cities_df['Wind_Speed'] < 10,:]\n",
    "\n",
    "#Zero cloudiness\n",
    "ideal_cities_df = ideal_cities_df.loc[ideal_cities_df['Cloudiness']==0,:]\n",
    "\n",
    "ideal_cities_df"
   ]
  },
  {
   "cell_type": "code",
   "execution_count": 29,
   "metadata": {
    "scrolled": true
   },
   "outputs": [
    {
     "name": "stdout",
     "output_type": "stream",
     "text": [
      "No ideal cities present thus no markers\n"
     ]
    },
    {
     "data": {
      "application/vnd.jupyter.widget-view+json": {
       "model_id": "469ccaba207e4d25a59dfce9371d0c2d",
       "version_major": 2,
       "version_minor": 0
      },
      "text/plain": [
       "Figure(layout=FigureLayout(border='1px solid black', height='300px', margin='0 auto 0 auto', padding='1px', wi…"
      ]
     },
     "metadata": {},
     "output_type": "display_data"
    }
   ],
   "source": [
    "#Get length of dataframe\n",
    "rows = len(cities_df)\n",
    "\n",
    "#Define parameters\n",
    "target_radius = 5000\n",
    "target_type = \"hotel\"\n",
    "\n",
    "#Coordinates\n",
    "coordinates = []\n",
    "\n",
    "#Hover Text\n",
    "hover_text = []\n",
    "\n",
    "#Markers\n",
    "markers = []\n",
    "\n",
    "#Iterate through\n",
    "try:\n",
    "    for index in range(0,rows):\n",
    "    \n",
    "\n",
    "        #Pull latitude and longitude\n",
    "        latitude = ideal_cities_df.loc[index,'Latitude']\n",
    "        longitude = ideal_cities_df.loc[index,'Longitude']\n",
    "\n",
    "        #City\n",
    "        ideal_city = ideal_cities_df.loc[index,\"City\"]\n",
    "        \n",
    "        #Country\n",
    "        ideal_country = ideal_cities_df.loc[index,\"City\"]\n",
    "        \n",
    "        #Create string to use as paramater\n",
    "        target_coordinates = f'{latitude}, {longitude}'\n",
    "\n",
    "        #Set up a parameters dictionary\n",
    "        params = {\n",
    "            \"location\": target_coordinates,\n",
    "            \"radius\": target_radius,\n",
    "            \"type\": target_type,\n",
    "            \"key\": gkey\n",
    "        }\n",
    "\n",
    "        #Base url\n",
    "        base_url = \"https://maps.googleapis.com/maps/api/place/nearbysearch/json\"\n",
    "\n",
    "        #Run a request using our params dictionary\n",
    "        response = requests.get(base_url, params=params)\n",
    "\n",
    "        places_data = response.json()\n",
    "\n",
    "        #Put coordinates into a list of tuples for markers\n",
    "        coordinate = (latitude, longitude)\n",
    "        coordinates.append(coordinate)\n",
    "\n",
    "        #Hotel\n",
    "        places_data = response.json()\n",
    "        hotel = places_data[\"results\"][1][\"name\"]\n",
    "\n",
    "        #Info_box_content\n",
    "        info_box = f'Name: {hotel}\\nCity: {ideal_city}\\nCountry: {ideal_cities_df.loc[index,ideal_country]}'\n",
    "        hover_text.append(info_box)\n",
    "        \n",
    "    markers = gmaps.marker_layer(coordinates, hover_text=hover_text )\n",
    "    fig2.add_layer(markers)\n",
    "except:\n",
    "    print('No ideal cities present thus no markers')\n",
    "     \n",
    "fig2"
   ]
  }
 ],
 "metadata": {
  "kernelspec": {
   "display_name": "Python [conda env:PythonData] *",
   "language": "python",
   "name": "conda-env-PythonData-py"
  },
  "language_info": {
   "codemirror_mode": {
    "name": "ipython",
    "version": 3
   },
   "file_extension": ".py",
   "mimetype": "text/x-python",
   "name": "python",
   "nbconvert_exporter": "python",
   "pygments_lexer": "ipython3",
   "version": "3.6.10"
  }
 },
 "nbformat": 4,
 "nbformat_minor": 4
}
